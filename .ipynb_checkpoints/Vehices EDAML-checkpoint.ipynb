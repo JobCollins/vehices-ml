{
 "cells": [
  {
   "cell_type": "markdown",
   "metadata": {},
   "source": [
    "## Get the Data"
   ]
  },
  {
   "cell_type": "code",
   "execution_count": 1,
   "metadata": {},
   "outputs": [
    {
     "name": "stderr",
     "output_type": "stream",
     "text": [
      "C:\\Anaconda3\\lib\\importlib\\_bootstrap.py:219: RuntimeWarning: numpy.ufunc size changed, may indicate binary incompatibility. Expected 192 from C header, got 216 from PyObject\n",
      "  return f(*args, **kwds)\n",
      "C:\\Anaconda3\\lib\\importlib\\_bootstrap.py:219: RuntimeWarning: numpy.ufunc size changed, may indicate binary incompatibility. Expected 192 from C header, got 216 from PyObject\n",
      "  return f(*args, **kwds)\n",
      "C:\\Anaconda3\\lib\\importlib\\_bootstrap.py:219: RuntimeWarning: numpy.ufunc size changed, may indicate binary incompatibility. Expected 192 from C header, got 216 from PyObject\n",
      "  return f(*args, **kwds)\n",
      "C:\\Anaconda3\\lib\\importlib\\_bootstrap.py:219: RuntimeWarning: numpy.ufunc size changed, may indicate binary incompatibility. Expected 192 from C header, got 216 from PyObject\n",
      "  return f(*args, **kwds)\n",
      "C:\\Anaconda3\\lib\\importlib\\_bootstrap.py:219: RuntimeWarning: numpy.ufunc size changed, may indicate binary incompatibility. Expected 216, got 192\n",
      "  return f(*args, **kwds)\n",
      "C:\\Anaconda3\\lib\\importlib\\_bootstrap.py:219: RuntimeWarning: numpy.ufunc size changed, may indicate binary incompatibility. Expected 192 from C header, got 216 from PyObject\n",
      "  return f(*args, **kwds)\n"
     ]
    }
   ],
   "source": [
    "from bs4 import BeautifulSoup\n",
    "import requests\n",
    "import pandas as pd\n",
    "import csv\n",
    "# for data visualisation and statistical analysis\n",
    "import numpy as np\n",
    "from sklearn.model_selection import train_test_split\n",
    "import seaborn as sns\n",
    "sns.set_style(\"white\")\n",
    "import matplotlib.patches as mpatches\n",
    "import matplotlib.pyplot as plt\n",
    "from pylab import rcParams\n",
    "%matplotlib inline"
   ]
  },
  {
   "cell_type": "code",
   "execution_count": 2,
   "metadata": {},
   "outputs": [],
   "source": [
    "urls_list = []\n",
    "# define the basic url to crawl on\n",
    "basic_url = \"https://www.avito.ma/fr/maroc/voitures-à_vendre?mpr=500000000&o=\"\n",
    "# loop over the paginated urls\n",
    "for i in range(1,250):\n",
    "    # get the page url\n",
    "    url = basic_url+str(i)\n",
    "    # get the request response\n",
    "    r  = requests.get(url)\n",
    "    data = r.text\n",
    "    # transform it to bs object\n",
    "    soup = BeautifulSoup(data, \"lxml\")\n",
    "    "
   ]
  },
  {
   "cell_type": "code",
   "execution_count": 3,
   "metadata": {},
   "outputs": [
    {
     "name": "stdout",
     "output_type": "stream",
     "text": [
      "['https://www.avito.ma/fr/agadir/voitures/Renault_4_34332649.htm']\n",
      "['https://www.avito.ma/fr/agadir/voitures/Renault_4_34332649.htm', 'https://www.avito.ma/fr/laâyoune/voitures/toyotaa_courolaa_34332625.htm']\n",
      "['https://www.avito.ma/fr/agadir/voitures/Renault_4_34332649.htm', 'https://www.avito.ma/fr/laâyoune/voitures/toyotaa_courolaa_34332625.htm', 'https://www.avito.ma/fr/casablanca/voitures/207_34332581.htm']\n",
      "['https://www.avito.ma/fr/agadir/voitures/Renault_4_34332649.htm', 'https://www.avito.ma/fr/laâyoune/voitures/toyotaa_courolaa_34332625.htm', 'https://www.avito.ma/fr/casablanca/voitures/207_34332581.htm', 'https://www.avito.ma/fr/la_ville_haute/voitures/Gol_accidentee_34332543.htm']\n",
      "['https://www.avito.ma/fr/agadir/voitures/Renault_4_34332649.htm', 'https://www.avito.ma/fr/laâyoune/voitures/toyotaa_courolaa_34332625.htm', 'https://www.avito.ma/fr/casablanca/voitures/207_34332581.htm', 'https://www.avito.ma/fr/la_ville_haute/voitures/Gol_accidentee_34332543.htm', 'https://www.avito.ma/fr/dakhla/voitures/a_vendre_voiture_mercedes_c220_34332534.htm']\n",
      "['https://www.avito.ma/fr/agadir/voitures/Renault_4_34332649.htm', 'https://www.avito.ma/fr/laâyoune/voitures/toyotaa_courolaa_34332625.htm', 'https://www.avito.ma/fr/casablanca/voitures/207_34332581.htm', 'https://www.avito.ma/fr/la_ville_haute/voitures/Gol_accidentee_34332543.htm', 'https://www.avito.ma/fr/dakhla/voitures/a_vendre_voiture_mercedes_c220_34332534.htm', 'https://www.avito.ma/fr/casablanca/voitures/Peugeot_208_like_34332520.htm']\n",
      "['https://www.avito.ma/fr/agadir/voitures/Renault_4_34332649.htm', 'https://www.avito.ma/fr/laâyoune/voitures/toyotaa_courolaa_34332625.htm', 'https://www.avito.ma/fr/casablanca/voitures/207_34332581.htm', 'https://www.avito.ma/fr/la_ville_haute/voitures/Gol_accidentee_34332543.htm', 'https://www.avito.ma/fr/dakhla/voitures/a_vendre_voiture_mercedes_c220_34332534.htm', 'https://www.avito.ma/fr/casablanca/voitures/Peugeot_208_like_34332520.htm', 'https://www.avito.ma/fr/tétouan/voitures/Mercedez_Clk_34332519.htm']\n",
      "['https://www.avito.ma/fr/agadir/voitures/Renault_4_34332649.htm', 'https://www.avito.ma/fr/laâyoune/voitures/toyotaa_courolaa_34332625.htm', 'https://www.avito.ma/fr/casablanca/voitures/207_34332581.htm', 'https://www.avito.ma/fr/la_ville_haute/voitures/Gol_accidentee_34332543.htm', 'https://www.avito.ma/fr/dakhla/voitures/a_vendre_voiture_mercedes_c220_34332534.htm', 'https://www.avito.ma/fr/casablanca/voitures/Peugeot_208_like_34332520.htm', 'https://www.avito.ma/fr/tétouan/voitures/Mercedez_Clk_34332519.htm', 'https://www.avito.ma/fr/dakhla/voitures/Mercedes_200_34332507.htm']\n",
      "['https://www.avito.ma/fr/agadir/voitures/Renault_4_34332649.htm', 'https://www.avito.ma/fr/laâyoune/voitures/toyotaa_courolaa_34332625.htm', 'https://www.avito.ma/fr/casablanca/voitures/207_34332581.htm', 'https://www.avito.ma/fr/la_ville_haute/voitures/Gol_accidentee_34332543.htm', 'https://www.avito.ma/fr/dakhla/voitures/a_vendre_voiture_mercedes_c220_34332534.htm', 'https://www.avito.ma/fr/casablanca/voitures/Peugeot_208_like_34332520.htm', 'https://www.avito.ma/fr/tétouan/voitures/Mercedez_Clk_34332519.htm', 'https://www.avito.ma/fr/dakhla/voitures/Mercedes_200_34332507.htm', 'https://www.avito.ma/fr/fès/voitures/mercedes_c250____dédouane_2005__mis_96_34332488.htm']\n",
      "['https://www.avito.ma/fr/agadir/voitures/Renault_4_34332649.htm', 'https://www.avito.ma/fr/laâyoune/voitures/toyotaa_courolaa_34332625.htm', 'https://www.avito.ma/fr/casablanca/voitures/207_34332581.htm', 'https://www.avito.ma/fr/la_ville_haute/voitures/Gol_accidentee_34332543.htm', 'https://www.avito.ma/fr/dakhla/voitures/a_vendre_voiture_mercedes_c220_34332534.htm', 'https://www.avito.ma/fr/casablanca/voitures/Peugeot_208_like_34332520.htm', 'https://www.avito.ma/fr/tétouan/voitures/Mercedez_Clk_34332519.htm', 'https://www.avito.ma/fr/dakhla/voitures/Mercedes_200_34332507.htm', 'https://www.avito.ma/fr/fès/voitures/mercedes_c250____dédouane_2005__mis_96_34332488.htm', 'https://www.avito.ma/fr/béni_mellal/voitures/Fiat_Doblo_34332479.htm']\n",
      "['https://www.avito.ma/fr/agadir/voitures/Renault_4_34332649.htm', 'https://www.avito.ma/fr/laâyoune/voitures/toyotaa_courolaa_34332625.htm', 'https://www.avito.ma/fr/casablanca/voitures/207_34332581.htm', 'https://www.avito.ma/fr/la_ville_haute/voitures/Gol_accidentee_34332543.htm', 'https://www.avito.ma/fr/dakhla/voitures/a_vendre_voiture_mercedes_c220_34332534.htm', 'https://www.avito.ma/fr/casablanca/voitures/Peugeot_208_like_34332520.htm', 'https://www.avito.ma/fr/tétouan/voitures/Mercedez_Clk_34332519.htm', 'https://www.avito.ma/fr/dakhla/voitures/Mercedes_200_34332507.htm', 'https://www.avito.ma/fr/fès/voitures/mercedes_c250____dédouane_2005__mis_96_34332488.htm', 'https://www.avito.ma/fr/béni_mellal/voitures/Fiat_Doblo_34332479.htm', 'https://www.avito.ma/fr/rabat/voitures/Toyota_corolla_34332447.htm']\n",
      "['https://www.avito.ma/fr/agadir/voitures/Renault_4_34332649.htm', 'https://www.avito.ma/fr/laâyoune/voitures/toyotaa_courolaa_34332625.htm', 'https://www.avito.ma/fr/casablanca/voitures/207_34332581.htm', 'https://www.avito.ma/fr/la_ville_haute/voitures/Gol_accidentee_34332543.htm', 'https://www.avito.ma/fr/dakhla/voitures/a_vendre_voiture_mercedes_c220_34332534.htm', 'https://www.avito.ma/fr/casablanca/voitures/Peugeot_208_like_34332520.htm', 'https://www.avito.ma/fr/tétouan/voitures/Mercedez_Clk_34332519.htm', 'https://www.avito.ma/fr/dakhla/voitures/Mercedes_200_34332507.htm', 'https://www.avito.ma/fr/fès/voitures/mercedes_c250____dédouane_2005__mis_96_34332488.htm', 'https://www.avito.ma/fr/béni_mellal/voitures/Fiat_Doblo_34332479.htm', 'https://www.avito.ma/fr/rabat/voitures/Toyota_corolla_34332447.htm', 'https://www.avito.ma/fr/dakhla/voitures/R18_34332444.htm']\n",
      "['https://www.avito.ma/fr/agadir/voitures/Renault_4_34332649.htm', 'https://www.avito.ma/fr/laâyoune/voitures/toyotaa_courolaa_34332625.htm', 'https://www.avito.ma/fr/casablanca/voitures/207_34332581.htm', 'https://www.avito.ma/fr/la_ville_haute/voitures/Gol_accidentee_34332543.htm', 'https://www.avito.ma/fr/dakhla/voitures/a_vendre_voiture_mercedes_c220_34332534.htm', 'https://www.avito.ma/fr/casablanca/voitures/Peugeot_208_like_34332520.htm', 'https://www.avito.ma/fr/tétouan/voitures/Mercedez_Clk_34332519.htm', 'https://www.avito.ma/fr/dakhla/voitures/Mercedes_200_34332507.htm', 'https://www.avito.ma/fr/fès/voitures/mercedes_c250____dédouane_2005__mis_96_34332488.htm', 'https://www.avito.ma/fr/béni_mellal/voitures/Fiat_Doblo_34332479.htm', 'https://www.avito.ma/fr/rabat/voitures/Toyota_corolla_34332447.htm', 'https://www.avito.ma/fr/dakhla/voitures/R18_34332444.htm', 'https://www.avito.ma/fr/casablanca/voitures/hyundai_i_30_automatique_34149031.htm']\n",
      "['https://www.avito.ma/fr/agadir/voitures/Renault_4_34332649.htm', 'https://www.avito.ma/fr/laâyoune/voitures/toyotaa_courolaa_34332625.htm', 'https://www.avito.ma/fr/casablanca/voitures/207_34332581.htm', 'https://www.avito.ma/fr/la_ville_haute/voitures/Gol_accidentee_34332543.htm', 'https://www.avito.ma/fr/dakhla/voitures/a_vendre_voiture_mercedes_c220_34332534.htm', 'https://www.avito.ma/fr/casablanca/voitures/Peugeot_208_like_34332520.htm', 'https://www.avito.ma/fr/tétouan/voitures/Mercedez_Clk_34332519.htm', 'https://www.avito.ma/fr/dakhla/voitures/Mercedes_200_34332507.htm', 'https://www.avito.ma/fr/fès/voitures/mercedes_c250____dédouane_2005__mis_96_34332488.htm', 'https://www.avito.ma/fr/béni_mellal/voitures/Fiat_Doblo_34332479.htm', 'https://www.avito.ma/fr/rabat/voitures/Toyota_corolla_34332447.htm', 'https://www.avito.ma/fr/dakhla/voitures/R18_34332444.htm', 'https://www.avito.ma/fr/casablanca/voitures/hyundai_i_30_automatique_34149031.htm', 'https://www.avito.ma/fr/taza/voitures/Ford_focus_titanium_34332422.htm']\n",
      "['https://www.avito.ma/fr/agadir/voitures/Renault_4_34332649.htm', 'https://www.avito.ma/fr/laâyoune/voitures/toyotaa_courolaa_34332625.htm', 'https://www.avito.ma/fr/casablanca/voitures/207_34332581.htm', 'https://www.avito.ma/fr/la_ville_haute/voitures/Gol_accidentee_34332543.htm', 'https://www.avito.ma/fr/dakhla/voitures/a_vendre_voiture_mercedes_c220_34332534.htm', 'https://www.avito.ma/fr/casablanca/voitures/Peugeot_208_like_34332520.htm', 'https://www.avito.ma/fr/tétouan/voitures/Mercedez_Clk_34332519.htm', 'https://www.avito.ma/fr/dakhla/voitures/Mercedes_200_34332507.htm', 'https://www.avito.ma/fr/fès/voitures/mercedes_c250____dédouane_2005__mis_96_34332488.htm', 'https://www.avito.ma/fr/béni_mellal/voitures/Fiat_Doblo_34332479.htm', 'https://www.avito.ma/fr/rabat/voitures/Toyota_corolla_34332447.htm', 'https://www.avito.ma/fr/dakhla/voitures/R18_34332444.htm', 'https://www.avito.ma/fr/casablanca/voitures/hyundai_i_30_automatique_34149031.htm', 'https://www.avito.ma/fr/taza/voitures/Ford_focus_titanium_34332422.htm', 'https://www.avito.ma/fr/casablanca/voitures/hay_hassani_34332383.htm']\n",
      "['https://www.avito.ma/fr/agadir/voitures/Renault_4_34332649.htm', 'https://www.avito.ma/fr/laâyoune/voitures/toyotaa_courolaa_34332625.htm', 'https://www.avito.ma/fr/casablanca/voitures/207_34332581.htm', 'https://www.avito.ma/fr/la_ville_haute/voitures/Gol_accidentee_34332543.htm', 'https://www.avito.ma/fr/dakhla/voitures/a_vendre_voiture_mercedes_c220_34332534.htm', 'https://www.avito.ma/fr/casablanca/voitures/Peugeot_208_like_34332520.htm', 'https://www.avito.ma/fr/tétouan/voitures/Mercedez_Clk_34332519.htm', 'https://www.avito.ma/fr/dakhla/voitures/Mercedes_200_34332507.htm', 'https://www.avito.ma/fr/fès/voitures/mercedes_c250____dédouane_2005__mis_96_34332488.htm', 'https://www.avito.ma/fr/béni_mellal/voitures/Fiat_Doblo_34332479.htm', 'https://www.avito.ma/fr/rabat/voitures/Toyota_corolla_34332447.htm', 'https://www.avito.ma/fr/dakhla/voitures/R18_34332444.htm', 'https://www.avito.ma/fr/casablanca/voitures/hyundai_i_30_automatique_34149031.htm', 'https://www.avito.ma/fr/taza/voitures/Ford_focus_titanium_34332422.htm', 'https://www.avito.ma/fr/casablanca/voitures/hay_hassani_34332383.htm', 'https://www.avito.ma/fr/casablanca/voitures/super_5_Essence__modil_86_diwana_99cv5_34332315.htm']\n",
      "['https://www.avito.ma/fr/agadir/voitures/Renault_4_34332649.htm', 'https://www.avito.ma/fr/laâyoune/voitures/toyotaa_courolaa_34332625.htm', 'https://www.avito.ma/fr/casablanca/voitures/207_34332581.htm', 'https://www.avito.ma/fr/la_ville_haute/voitures/Gol_accidentee_34332543.htm', 'https://www.avito.ma/fr/dakhla/voitures/a_vendre_voiture_mercedes_c220_34332534.htm', 'https://www.avito.ma/fr/casablanca/voitures/Peugeot_208_like_34332520.htm', 'https://www.avito.ma/fr/tétouan/voitures/Mercedez_Clk_34332519.htm', 'https://www.avito.ma/fr/dakhla/voitures/Mercedes_200_34332507.htm', 'https://www.avito.ma/fr/fès/voitures/mercedes_c250____dédouane_2005__mis_96_34332488.htm', 'https://www.avito.ma/fr/béni_mellal/voitures/Fiat_Doblo_34332479.htm', 'https://www.avito.ma/fr/rabat/voitures/Toyota_corolla_34332447.htm', 'https://www.avito.ma/fr/dakhla/voitures/R18_34332444.htm', 'https://www.avito.ma/fr/casablanca/voitures/hyundai_i_30_automatique_34149031.htm', 'https://www.avito.ma/fr/taza/voitures/Ford_focus_titanium_34332422.htm', 'https://www.avito.ma/fr/casablanca/voitures/hay_hassani_34332383.htm', 'https://www.avito.ma/fr/casablanca/voitures/super_5_Essence__modil_86_diwana_99cv5_34332315.htm', 'https://www.avito.ma/fr/rabat/voitures/Nissan_tiida_34332265.htm']\n",
      "['https://www.avito.ma/fr/agadir/voitures/Renault_4_34332649.htm', 'https://www.avito.ma/fr/laâyoune/voitures/toyotaa_courolaa_34332625.htm', 'https://www.avito.ma/fr/casablanca/voitures/207_34332581.htm', 'https://www.avito.ma/fr/la_ville_haute/voitures/Gol_accidentee_34332543.htm', 'https://www.avito.ma/fr/dakhla/voitures/a_vendre_voiture_mercedes_c220_34332534.htm', 'https://www.avito.ma/fr/casablanca/voitures/Peugeot_208_like_34332520.htm', 'https://www.avito.ma/fr/tétouan/voitures/Mercedez_Clk_34332519.htm', 'https://www.avito.ma/fr/dakhla/voitures/Mercedes_200_34332507.htm', 'https://www.avito.ma/fr/fès/voitures/mercedes_c250____dédouane_2005__mis_96_34332488.htm', 'https://www.avito.ma/fr/béni_mellal/voitures/Fiat_Doblo_34332479.htm', 'https://www.avito.ma/fr/rabat/voitures/Toyota_corolla_34332447.htm', 'https://www.avito.ma/fr/dakhla/voitures/R18_34332444.htm', 'https://www.avito.ma/fr/casablanca/voitures/hyundai_i_30_automatique_34149031.htm', 'https://www.avito.ma/fr/taza/voitures/Ford_focus_titanium_34332422.htm', 'https://www.avito.ma/fr/casablanca/voitures/hay_hassani_34332383.htm', 'https://www.avito.ma/fr/casablanca/voitures/super_5_Essence__modil_86_diwana_99cv5_34332315.htm', 'https://www.avito.ma/fr/rabat/voitures/Nissan_tiida_34332265.htm', 'https://www.avito.ma/fr/khemisset/voitures/c15_34332257.htm']\n",
      "['https://www.avito.ma/fr/agadir/voitures/Renault_4_34332649.htm', 'https://www.avito.ma/fr/laâyoune/voitures/toyotaa_courolaa_34332625.htm', 'https://www.avito.ma/fr/casablanca/voitures/207_34332581.htm', 'https://www.avito.ma/fr/la_ville_haute/voitures/Gol_accidentee_34332543.htm', 'https://www.avito.ma/fr/dakhla/voitures/a_vendre_voiture_mercedes_c220_34332534.htm', 'https://www.avito.ma/fr/casablanca/voitures/Peugeot_208_like_34332520.htm', 'https://www.avito.ma/fr/tétouan/voitures/Mercedez_Clk_34332519.htm', 'https://www.avito.ma/fr/dakhla/voitures/Mercedes_200_34332507.htm', 'https://www.avito.ma/fr/fès/voitures/mercedes_c250____dédouane_2005__mis_96_34332488.htm', 'https://www.avito.ma/fr/béni_mellal/voitures/Fiat_Doblo_34332479.htm', 'https://www.avito.ma/fr/rabat/voitures/Toyota_corolla_34332447.htm', 'https://www.avito.ma/fr/dakhla/voitures/R18_34332444.htm', 'https://www.avito.ma/fr/casablanca/voitures/hyundai_i_30_automatique_34149031.htm', 'https://www.avito.ma/fr/taza/voitures/Ford_focus_titanium_34332422.htm', 'https://www.avito.ma/fr/casablanca/voitures/hay_hassani_34332383.htm', 'https://www.avito.ma/fr/casablanca/voitures/super_5_Essence__modil_86_diwana_99cv5_34332315.htm', 'https://www.avito.ma/fr/rabat/voitures/Nissan_tiida_34332265.htm', 'https://www.avito.ma/fr/khemisset/voitures/c15_34332257.htm', 'https://www.avito.ma/fr/essaouira/voitures/kia_picanto_34332251.htm']\n",
      "['https://www.avito.ma/fr/agadir/voitures/Renault_4_34332649.htm', 'https://www.avito.ma/fr/laâyoune/voitures/toyotaa_courolaa_34332625.htm', 'https://www.avito.ma/fr/casablanca/voitures/207_34332581.htm', 'https://www.avito.ma/fr/la_ville_haute/voitures/Gol_accidentee_34332543.htm', 'https://www.avito.ma/fr/dakhla/voitures/a_vendre_voiture_mercedes_c220_34332534.htm', 'https://www.avito.ma/fr/casablanca/voitures/Peugeot_208_like_34332520.htm', 'https://www.avito.ma/fr/tétouan/voitures/Mercedez_Clk_34332519.htm', 'https://www.avito.ma/fr/dakhla/voitures/Mercedes_200_34332507.htm', 'https://www.avito.ma/fr/fès/voitures/mercedes_c250____dédouane_2005__mis_96_34332488.htm', 'https://www.avito.ma/fr/béni_mellal/voitures/Fiat_Doblo_34332479.htm', 'https://www.avito.ma/fr/rabat/voitures/Toyota_corolla_34332447.htm', 'https://www.avito.ma/fr/dakhla/voitures/R18_34332444.htm', 'https://www.avito.ma/fr/casablanca/voitures/hyundai_i_30_automatique_34149031.htm', 'https://www.avito.ma/fr/taza/voitures/Ford_focus_titanium_34332422.htm', 'https://www.avito.ma/fr/casablanca/voitures/hay_hassani_34332383.htm', 'https://www.avito.ma/fr/casablanca/voitures/super_5_Essence__modil_86_diwana_99cv5_34332315.htm', 'https://www.avito.ma/fr/rabat/voitures/Nissan_tiida_34332265.htm', 'https://www.avito.ma/fr/khemisset/voitures/c15_34332257.htm', 'https://www.avito.ma/fr/essaouira/voitures/kia_picanto_34332251.htm', 'https://www.avito.ma/fr/centre_ville/voitures/Suzuki_Alto_Essence_6_chh_34332248.htm']\n",
      "['https://www.avito.ma/fr/agadir/voitures/Renault_4_34332649.htm', 'https://www.avito.ma/fr/laâyoune/voitures/toyotaa_courolaa_34332625.htm', 'https://www.avito.ma/fr/casablanca/voitures/207_34332581.htm', 'https://www.avito.ma/fr/la_ville_haute/voitures/Gol_accidentee_34332543.htm', 'https://www.avito.ma/fr/dakhla/voitures/a_vendre_voiture_mercedes_c220_34332534.htm', 'https://www.avito.ma/fr/casablanca/voitures/Peugeot_208_like_34332520.htm', 'https://www.avito.ma/fr/tétouan/voitures/Mercedez_Clk_34332519.htm', 'https://www.avito.ma/fr/dakhla/voitures/Mercedes_200_34332507.htm', 'https://www.avito.ma/fr/fès/voitures/mercedes_c250____dédouane_2005__mis_96_34332488.htm', 'https://www.avito.ma/fr/béni_mellal/voitures/Fiat_Doblo_34332479.htm', 'https://www.avito.ma/fr/rabat/voitures/Toyota_corolla_34332447.htm', 'https://www.avito.ma/fr/dakhla/voitures/R18_34332444.htm', 'https://www.avito.ma/fr/casablanca/voitures/hyundai_i_30_automatique_34149031.htm', 'https://www.avito.ma/fr/taza/voitures/Ford_focus_titanium_34332422.htm', 'https://www.avito.ma/fr/casablanca/voitures/hay_hassani_34332383.htm', 'https://www.avito.ma/fr/casablanca/voitures/super_5_Essence__modil_86_diwana_99cv5_34332315.htm', 'https://www.avito.ma/fr/rabat/voitures/Nissan_tiida_34332265.htm', 'https://www.avito.ma/fr/khemisset/voitures/c15_34332257.htm', 'https://www.avito.ma/fr/essaouira/voitures/kia_picanto_34332251.htm', 'https://www.avito.ma/fr/centre_ville/voitures/Suzuki_Alto_Essence_6_chh_34332248.htm', 'https://www.avito.ma/fr/route_de_sefrou/voitures/Dacia_Duster_Diesel_34332226.htm']\n",
      "['https://www.avito.ma/fr/agadir/voitures/Renault_4_34332649.htm', 'https://www.avito.ma/fr/laâyoune/voitures/toyotaa_courolaa_34332625.htm', 'https://www.avito.ma/fr/casablanca/voitures/207_34332581.htm', 'https://www.avito.ma/fr/la_ville_haute/voitures/Gol_accidentee_34332543.htm', 'https://www.avito.ma/fr/dakhla/voitures/a_vendre_voiture_mercedes_c220_34332534.htm', 'https://www.avito.ma/fr/casablanca/voitures/Peugeot_208_like_34332520.htm', 'https://www.avito.ma/fr/tétouan/voitures/Mercedez_Clk_34332519.htm', 'https://www.avito.ma/fr/dakhla/voitures/Mercedes_200_34332507.htm', 'https://www.avito.ma/fr/fès/voitures/mercedes_c250____dédouane_2005__mis_96_34332488.htm', 'https://www.avito.ma/fr/béni_mellal/voitures/Fiat_Doblo_34332479.htm', 'https://www.avito.ma/fr/rabat/voitures/Toyota_corolla_34332447.htm', 'https://www.avito.ma/fr/dakhla/voitures/R18_34332444.htm', 'https://www.avito.ma/fr/casablanca/voitures/hyundai_i_30_automatique_34149031.htm', 'https://www.avito.ma/fr/taza/voitures/Ford_focus_titanium_34332422.htm', 'https://www.avito.ma/fr/casablanca/voitures/hay_hassani_34332383.htm', 'https://www.avito.ma/fr/casablanca/voitures/super_5_Essence__modil_86_diwana_99cv5_34332315.htm', 'https://www.avito.ma/fr/rabat/voitures/Nissan_tiida_34332265.htm', 'https://www.avito.ma/fr/khemisset/voitures/c15_34332257.htm', 'https://www.avito.ma/fr/essaouira/voitures/kia_picanto_34332251.htm', 'https://www.avito.ma/fr/centre_ville/voitures/Suzuki_Alto_Essence_6_chh_34332248.htm', 'https://www.avito.ma/fr/route_de_sefrou/voitures/Dacia_Duster_Diesel_34332226.htm', 'https://www.avito.ma/fr/casablanca/voitures/peugeot_Partner_34332215.htm']\n",
      "['https://www.avito.ma/fr/agadir/voitures/Renault_4_34332649.htm', 'https://www.avito.ma/fr/laâyoune/voitures/toyotaa_courolaa_34332625.htm', 'https://www.avito.ma/fr/casablanca/voitures/207_34332581.htm', 'https://www.avito.ma/fr/la_ville_haute/voitures/Gol_accidentee_34332543.htm', 'https://www.avito.ma/fr/dakhla/voitures/a_vendre_voiture_mercedes_c220_34332534.htm', 'https://www.avito.ma/fr/casablanca/voitures/Peugeot_208_like_34332520.htm', 'https://www.avito.ma/fr/tétouan/voitures/Mercedez_Clk_34332519.htm', 'https://www.avito.ma/fr/dakhla/voitures/Mercedes_200_34332507.htm', 'https://www.avito.ma/fr/fès/voitures/mercedes_c250____dédouane_2005__mis_96_34332488.htm', 'https://www.avito.ma/fr/béni_mellal/voitures/Fiat_Doblo_34332479.htm', 'https://www.avito.ma/fr/rabat/voitures/Toyota_corolla_34332447.htm', 'https://www.avito.ma/fr/dakhla/voitures/R18_34332444.htm', 'https://www.avito.ma/fr/casablanca/voitures/hyundai_i_30_automatique_34149031.htm', 'https://www.avito.ma/fr/taza/voitures/Ford_focus_titanium_34332422.htm', 'https://www.avito.ma/fr/casablanca/voitures/hay_hassani_34332383.htm', 'https://www.avito.ma/fr/casablanca/voitures/super_5_Essence__modil_86_diwana_99cv5_34332315.htm', 'https://www.avito.ma/fr/rabat/voitures/Nissan_tiida_34332265.htm', 'https://www.avito.ma/fr/khemisset/voitures/c15_34332257.htm', 'https://www.avito.ma/fr/essaouira/voitures/kia_picanto_34332251.htm', 'https://www.avito.ma/fr/centre_ville/voitures/Suzuki_Alto_Essence_6_chh_34332248.htm', 'https://www.avito.ma/fr/route_de_sefrou/voitures/Dacia_Duster_Diesel_34332226.htm', 'https://www.avito.ma/fr/casablanca/voitures/peugeot_Partner_34332215.htm', 'https://www.avito.ma/fr/guercif/voitures/Volkswagen_caddy_34332211.htm']\n",
      "['https://www.avito.ma/fr/agadir/voitures/Renault_4_34332649.htm', 'https://www.avito.ma/fr/laâyoune/voitures/toyotaa_courolaa_34332625.htm', 'https://www.avito.ma/fr/casablanca/voitures/207_34332581.htm', 'https://www.avito.ma/fr/la_ville_haute/voitures/Gol_accidentee_34332543.htm', 'https://www.avito.ma/fr/dakhla/voitures/a_vendre_voiture_mercedes_c220_34332534.htm', 'https://www.avito.ma/fr/casablanca/voitures/Peugeot_208_like_34332520.htm', 'https://www.avito.ma/fr/tétouan/voitures/Mercedez_Clk_34332519.htm', 'https://www.avito.ma/fr/dakhla/voitures/Mercedes_200_34332507.htm', 'https://www.avito.ma/fr/fès/voitures/mercedes_c250____dédouane_2005__mis_96_34332488.htm', 'https://www.avito.ma/fr/béni_mellal/voitures/Fiat_Doblo_34332479.htm', 'https://www.avito.ma/fr/rabat/voitures/Toyota_corolla_34332447.htm', 'https://www.avito.ma/fr/dakhla/voitures/R18_34332444.htm', 'https://www.avito.ma/fr/casablanca/voitures/hyundai_i_30_automatique_34149031.htm', 'https://www.avito.ma/fr/taza/voitures/Ford_focus_titanium_34332422.htm', 'https://www.avito.ma/fr/casablanca/voitures/hay_hassani_34332383.htm', 'https://www.avito.ma/fr/casablanca/voitures/super_5_Essence__modil_86_diwana_99cv5_34332315.htm', 'https://www.avito.ma/fr/rabat/voitures/Nissan_tiida_34332265.htm', 'https://www.avito.ma/fr/khemisset/voitures/c15_34332257.htm', 'https://www.avito.ma/fr/essaouira/voitures/kia_picanto_34332251.htm', 'https://www.avito.ma/fr/centre_ville/voitures/Suzuki_Alto_Essence_6_chh_34332248.htm', 'https://www.avito.ma/fr/route_de_sefrou/voitures/Dacia_Duster_Diesel_34332226.htm', 'https://www.avito.ma/fr/casablanca/voitures/peugeot_Partner_34332215.htm', 'https://www.avito.ma/fr/guercif/voitures/Volkswagen_caddy_34332211.htm', 'https://www.avito.ma/fr/guich_oudaya/voitures/Citroën_saxo_diesel_1ére_main_reprise__34332205.htm']\n",
      "['https://www.avito.ma/fr/agadir/voitures/Renault_4_34332649.htm', 'https://www.avito.ma/fr/laâyoune/voitures/toyotaa_courolaa_34332625.htm', 'https://www.avito.ma/fr/casablanca/voitures/207_34332581.htm', 'https://www.avito.ma/fr/la_ville_haute/voitures/Gol_accidentee_34332543.htm', 'https://www.avito.ma/fr/dakhla/voitures/a_vendre_voiture_mercedes_c220_34332534.htm', 'https://www.avito.ma/fr/casablanca/voitures/Peugeot_208_like_34332520.htm', 'https://www.avito.ma/fr/tétouan/voitures/Mercedez_Clk_34332519.htm', 'https://www.avito.ma/fr/dakhla/voitures/Mercedes_200_34332507.htm', 'https://www.avito.ma/fr/fès/voitures/mercedes_c250____dédouane_2005__mis_96_34332488.htm', 'https://www.avito.ma/fr/béni_mellal/voitures/Fiat_Doblo_34332479.htm', 'https://www.avito.ma/fr/rabat/voitures/Toyota_corolla_34332447.htm', 'https://www.avito.ma/fr/dakhla/voitures/R18_34332444.htm', 'https://www.avito.ma/fr/casablanca/voitures/hyundai_i_30_automatique_34149031.htm', 'https://www.avito.ma/fr/taza/voitures/Ford_focus_titanium_34332422.htm', 'https://www.avito.ma/fr/casablanca/voitures/hay_hassani_34332383.htm', 'https://www.avito.ma/fr/casablanca/voitures/super_5_Essence__modil_86_diwana_99cv5_34332315.htm', 'https://www.avito.ma/fr/rabat/voitures/Nissan_tiida_34332265.htm', 'https://www.avito.ma/fr/khemisset/voitures/c15_34332257.htm', 'https://www.avito.ma/fr/essaouira/voitures/kia_picanto_34332251.htm', 'https://www.avito.ma/fr/centre_ville/voitures/Suzuki_Alto_Essence_6_chh_34332248.htm', 'https://www.avito.ma/fr/route_de_sefrou/voitures/Dacia_Duster_Diesel_34332226.htm', 'https://www.avito.ma/fr/casablanca/voitures/peugeot_Partner_34332215.htm', 'https://www.avito.ma/fr/guercif/voitures/Volkswagen_caddy_34332211.htm', 'https://www.avito.ma/fr/guich_oudaya/voitures/Citroën_saxo_diesel_1ére_main_reprise__34332205.htm', 'https://www.avito.ma/fr/fès/voitures/Peugeot_205_Essence_34332200.htm']\n",
      "['https://www.avito.ma/fr/agadir/voitures/Renault_4_34332649.htm', 'https://www.avito.ma/fr/laâyoune/voitures/toyotaa_courolaa_34332625.htm', 'https://www.avito.ma/fr/casablanca/voitures/207_34332581.htm', 'https://www.avito.ma/fr/la_ville_haute/voitures/Gol_accidentee_34332543.htm', 'https://www.avito.ma/fr/dakhla/voitures/a_vendre_voiture_mercedes_c220_34332534.htm', 'https://www.avito.ma/fr/casablanca/voitures/Peugeot_208_like_34332520.htm', 'https://www.avito.ma/fr/tétouan/voitures/Mercedez_Clk_34332519.htm', 'https://www.avito.ma/fr/dakhla/voitures/Mercedes_200_34332507.htm', 'https://www.avito.ma/fr/fès/voitures/mercedes_c250____dédouane_2005__mis_96_34332488.htm', 'https://www.avito.ma/fr/béni_mellal/voitures/Fiat_Doblo_34332479.htm', 'https://www.avito.ma/fr/rabat/voitures/Toyota_corolla_34332447.htm', 'https://www.avito.ma/fr/dakhla/voitures/R18_34332444.htm', 'https://www.avito.ma/fr/casablanca/voitures/hyundai_i_30_automatique_34149031.htm', 'https://www.avito.ma/fr/taza/voitures/Ford_focus_titanium_34332422.htm', 'https://www.avito.ma/fr/casablanca/voitures/hay_hassani_34332383.htm', 'https://www.avito.ma/fr/casablanca/voitures/super_5_Essence__modil_86_diwana_99cv5_34332315.htm', 'https://www.avito.ma/fr/rabat/voitures/Nissan_tiida_34332265.htm', 'https://www.avito.ma/fr/khemisset/voitures/c15_34332257.htm', 'https://www.avito.ma/fr/essaouira/voitures/kia_picanto_34332251.htm', 'https://www.avito.ma/fr/centre_ville/voitures/Suzuki_Alto_Essence_6_chh_34332248.htm', 'https://www.avito.ma/fr/route_de_sefrou/voitures/Dacia_Duster_Diesel_34332226.htm', 'https://www.avito.ma/fr/casablanca/voitures/peugeot_Partner_34332215.htm', 'https://www.avito.ma/fr/guercif/voitures/Volkswagen_caddy_34332211.htm', 'https://www.avito.ma/fr/guich_oudaya/voitures/Citroën_saxo_diesel_1ére_main_reprise__34332205.htm', 'https://www.avito.ma/fr/fès/voitures/Peugeot_205_Essence_34332200.htm', 'https://www.avito.ma/fr/marrakech/voitures/ABDOU_34332196.htm']\n",
      "['https://www.avito.ma/fr/agadir/voitures/Renault_4_34332649.htm', 'https://www.avito.ma/fr/laâyoune/voitures/toyotaa_courolaa_34332625.htm', 'https://www.avito.ma/fr/casablanca/voitures/207_34332581.htm', 'https://www.avito.ma/fr/la_ville_haute/voitures/Gol_accidentee_34332543.htm', 'https://www.avito.ma/fr/dakhla/voitures/a_vendre_voiture_mercedes_c220_34332534.htm', 'https://www.avito.ma/fr/casablanca/voitures/Peugeot_208_like_34332520.htm', 'https://www.avito.ma/fr/tétouan/voitures/Mercedez_Clk_34332519.htm', 'https://www.avito.ma/fr/dakhla/voitures/Mercedes_200_34332507.htm', 'https://www.avito.ma/fr/fès/voitures/mercedes_c250____dédouane_2005__mis_96_34332488.htm', 'https://www.avito.ma/fr/béni_mellal/voitures/Fiat_Doblo_34332479.htm', 'https://www.avito.ma/fr/rabat/voitures/Toyota_corolla_34332447.htm', 'https://www.avito.ma/fr/dakhla/voitures/R18_34332444.htm', 'https://www.avito.ma/fr/casablanca/voitures/hyundai_i_30_automatique_34149031.htm', 'https://www.avito.ma/fr/taza/voitures/Ford_focus_titanium_34332422.htm', 'https://www.avito.ma/fr/casablanca/voitures/hay_hassani_34332383.htm', 'https://www.avito.ma/fr/casablanca/voitures/super_5_Essence__modil_86_diwana_99cv5_34332315.htm', 'https://www.avito.ma/fr/rabat/voitures/Nissan_tiida_34332265.htm', 'https://www.avito.ma/fr/khemisset/voitures/c15_34332257.htm', 'https://www.avito.ma/fr/essaouira/voitures/kia_picanto_34332251.htm', 'https://www.avito.ma/fr/centre_ville/voitures/Suzuki_Alto_Essence_6_chh_34332248.htm', 'https://www.avito.ma/fr/route_de_sefrou/voitures/Dacia_Duster_Diesel_34332226.htm', 'https://www.avito.ma/fr/casablanca/voitures/peugeot_Partner_34332215.htm', 'https://www.avito.ma/fr/guercif/voitures/Volkswagen_caddy_34332211.htm', 'https://www.avito.ma/fr/guich_oudaya/voitures/Citroën_saxo_diesel_1ére_main_reprise__34332205.htm', 'https://www.avito.ma/fr/fès/voitures/Peugeot_205_Essence_34332200.htm', 'https://www.avito.ma/fr/marrakech/voitures/ABDOU_34332196.htm', 'https://www.avito.ma/fr/el_jadida/voitures/opel_astra_mliha_34332176.htm']\n",
      "['https://www.avito.ma/fr/agadir/voitures/Renault_4_34332649.htm', 'https://www.avito.ma/fr/laâyoune/voitures/toyotaa_courolaa_34332625.htm', 'https://www.avito.ma/fr/casablanca/voitures/207_34332581.htm', 'https://www.avito.ma/fr/la_ville_haute/voitures/Gol_accidentee_34332543.htm', 'https://www.avito.ma/fr/dakhla/voitures/a_vendre_voiture_mercedes_c220_34332534.htm', 'https://www.avito.ma/fr/casablanca/voitures/Peugeot_208_like_34332520.htm', 'https://www.avito.ma/fr/tétouan/voitures/Mercedez_Clk_34332519.htm', 'https://www.avito.ma/fr/dakhla/voitures/Mercedes_200_34332507.htm', 'https://www.avito.ma/fr/fès/voitures/mercedes_c250____dédouane_2005__mis_96_34332488.htm', 'https://www.avito.ma/fr/béni_mellal/voitures/Fiat_Doblo_34332479.htm', 'https://www.avito.ma/fr/rabat/voitures/Toyota_corolla_34332447.htm', 'https://www.avito.ma/fr/dakhla/voitures/R18_34332444.htm', 'https://www.avito.ma/fr/casablanca/voitures/hyundai_i_30_automatique_34149031.htm', 'https://www.avito.ma/fr/taza/voitures/Ford_focus_titanium_34332422.htm', 'https://www.avito.ma/fr/casablanca/voitures/hay_hassani_34332383.htm', 'https://www.avito.ma/fr/casablanca/voitures/super_5_Essence__modil_86_diwana_99cv5_34332315.htm', 'https://www.avito.ma/fr/rabat/voitures/Nissan_tiida_34332265.htm', 'https://www.avito.ma/fr/khemisset/voitures/c15_34332257.htm', 'https://www.avito.ma/fr/essaouira/voitures/kia_picanto_34332251.htm', 'https://www.avito.ma/fr/centre_ville/voitures/Suzuki_Alto_Essence_6_chh_34332248.htm', 'https://www.avito.ma/fr/route_de_sefrou/voitures/Dacia_Duster_Diesel_34332226.htm', 'https://www.avito.ma/fr/casablanca/voitures/peugeot_Partner_34332215.htm', 'https://www.avito.ma/fr/guercif/voitures/Volkswagen_caddy_34332211.htm', 'https://www.avito.ma/fr/guich_oudaya/voitures/Citroën_saxo_diesel_1ére_main_reprise__34332205.htm', 'https://www.avito.ma/fr/fès/voitures/Peugeot_205_Essence_34332200.htm', 'https://www.avito.ma/fr/marrakech/voitures/ABDOU_34332196.htm', 'https://www.avito.ma/fr/el_jadida/voitures/opel_astra_mliha_34332176.htm', 'https://www.avito.ma/fr/hay_riad/voitures/Range_Rover_évoque_black_édition_34332173.htm']\n",
      "['https://www.avito.ma/fr/agadir/voitures/Renault_4_34332649.htm', 'https://www.avito.ma/fr/laâyoune/voitures/toyotaa_courolaa_34332625.htm', 'https://www.avito.ma/fr/casablanca/voitures/207_34332581.htm', 'https://www.avito.ma/fr/la_ville_haute/voitures/Gol_accidentee_34332543.htm', 'https://www.avito.ma/fr/dakhla/voitures/a_vendre_voiture_mercedes_c220_34332534.htm', 'https://www.avito.ma/fr/casablanca/voitures/Peugeot_208_like_34332520.htm', 'https://www.avito.ma/fr/tétouan/voitures/Mercedez_Clk_34332519.htm', 'https://www.avito.ma/fr/dakhla/voitures/Mercedes_200_34332507.htm', 'https://www.avito.ma/fr/fès/voitures/mercedes_c250____dédouane_2005__mis_96_34332488.htm', 'https://www.avito.ma/fr/béni_mellal/voitures/Fiat_Doblo_34332479.htm', 'https://www.avito.ma/fr/rabat/voitures/Toyota_corolla_34332447.htm', 'https://www.avito.ma/fr/dakhla/voitures/R18_34332444.htm', 'https://www.avito.ma/fr/casablanca/voitures/hyundai_i_30_automatique_34149031.htm', 'https://www.avito.ma/fr/taza/voitures/Ford_focus_titanium_34332422.htm', 'https://www.avito.ma/fr/casablanca/voitures/hay_hassani_34332383.htm', 'https://www.avito.ma/fr/casablanca/voitures/super_5_Essence__modil_86_diwana_99cv5_34332315.htm', 'https://www.avito.ma/fr/rabat/voitures/Nissan_tiida_34332265.htm', 'https://www.avito.ma/fr/khemisset/voitures/c15_34332257.htm', 'https://www.avito.ma/fr/essaouira/voitures/kia_picanto_34332251.htm', 'https://www.avito.ma/fr/centre_ville/voitures/Suzuki_Alto_Essence_6_chh_34332248.htm', 'https://www.avito.ma/fr/route_de_sefrou/voitures/Dacia_Duster_Diesel_34332226.htm', 'https://www.avito.ma/fr/casablanca/voitures/peugeot_Partner_34332215.htm', 'https://www.avito.ma/fr/guercif/voitures/Volkswagen_caddy_34332211.htm', 'https://www.avito.ma/fr/guich_oudaya/voitures/Citroën_saxo_diesel_1ére_main_reprise__34332205.htm', 'https://www.avito.ma/fr/fès/voitures/Peugeot_205_Essence_34332200.htm', 'https://www.avito.ma/fr/marrakech/voitures/ABDOU_34332196.htm', 'https://www.avito.ma/fr/el_jadida/voitures/opel_astra_mliha_34332176.htm', 'https://www.avito.ma/fr/hay_riad/voitures/Range_Rover_évoque_black_édition_34332173.htm', 'https://www.avito.ma/fr/souk_el_arbaa/voitures/Mercedes_Benz_Classe_C_Diesel_34332170.htm']\n",
      "['https://www.avito.ma/fr/agadir/voitures/Renault_4_34332649.htm', 'https://www.avito.ma/fr/laâyoune/voitures/toyotaa_courolaa_34332625.htm', 'https://www.avito.ma/fr/casablanca/voitures/207_34332581.htm', 'https://www.avito.ma/fr/la_ville_haute/voitures/Gol_accidentee_34332543.htm', 'https://www.avito.ma/fr/dakhla/voitures/a_vendre_voiture_mercedes_c220_34332534.htm', 'https://www.avito.ma/fr/casablanca/voitures/Peugeot_208_like_34332520.htm', 'https://www.avito.ma/fr/tétouan/voitures/Mercedez_Clk_34332519.htm', 'https://www.avito.ma/fr/dakhla/voitures/Mercedes_200_34332507.htm', 'https://www.avito.ma/fr/fès/voitures/mercedes_c250____dédouane_2005__mis_96_34332488.htm', 'https://www.avito.ma/fr/béni_mellal/voitures/Fiat_Doblo_34332479.htm', 'https://www.avito.ma/fr/rabat/voitures/Toyota_corolla_34332447.htm', 'https://www.avito.ma/fr/dakhla/voitures/R18_34332444.htm', 'https://www.avito.ma/fr/casablanca/voitures/hyundai_i_30_automatique_34149031.htm', 'https://www.avito.ma/fr/taza/voitures/Ford_focus_titanium_34332422.htm', 'https://www.avito.ma/fr/casablanca/voitures/hay_hassani_34332383.htm', 'https://www.avito.ma/fr/casablanca/voitures/super_5_Essence__modil_86_diwana_99cv5_34332315.htm', 'https://www.avito.ma/fr/rabat/voitures/Nissan_tiida_34332265.htm', 'https://www.avito.ma/fr/khemisset/voitures/c15_34332257.htm', 'https://www.avito.ma/fr/essaouira/voitures/kia_picanto_34332251.htm', 'https://www.avito.ma/fr/centre_ville/voitures/Suzuki_Alto_Essence_6_chh_34332248.htm', 'https://www.avito.ma/fr/route_de_sefrou/voitures/Dacia_Duster_Diesel_34332226.htm', 'https://www.avito.ma/fr/casablanca/voitures/peugeot_Partner_34332215.htm', 'https://www.avito.ma/fr/guercif/voitures/Volkswagen_caddy_34332211.htm', 'https://www.avito.ma/fr/guich_oudaya/voitures/Citroën_saxo_diesel_1ére_main_reprise__34332205.htm', 'https://www.avito.ma/fr/fès/voitures/Peugeot_205_Essence_34332200.htm', 'https://www.avito.ma/fr/marrakech/voitures/ABDOU_34332196.htm', 'https://www.avito.ma/fr/el_jadida/voitures/opel_astra_mliha_34332176.htm', 'https://www.avito.ma/fr/hay_riad/voitures/Range_Rover_évoque_black_édition_34332173.htm', 'https://www.avito.ma/fr/souk_el_arbaa/voitures/Mercedes_Benz_Classe_C_Diesel_34332170.htm', 'https://www.avito.ma/fr/sidi_othmane/voitures/سيارة_كونغو_34332169.htm']\n",
      "['https://www.avito.ma/fr/agadir/voitures/Renault_4_34332649.htm', 'https://www.avito.ma/fr/laâyoune/voitures/toyotaa_courolaa_34332625.htm', 'https://www.avito.ma/fr/casablanca/voitures/207_34332581.htm', 'https://www.avito.ma/fr/la_ville_haute/voitures/Gol_accidentee_34332543.htm', 'https://www.avito.ma/fr/dakhla/voitures/a_vendre_voiture_mercedes_c220_34332534.htm', 'https://www.avito.ma/fr/casablanca/voitures/Peugeot_208_like_34332520.htm', 'https://www.avito.ma/fr/tétouan/voitures/Mercedez_Clk_34332519.htm', 'https://www.avito.ma/fr/dakhla/voitures/Mercedes_200_34332507.htm', 'https://www.avito.ma/fr/fès/voitures/mercedes_c250____dédouane_2005__mis_96_34332488.htm', 'https://www.avito.ma/fr/béni_mellal/voitures/Fiat_Doblo_34332479.htm', 'https://www.avito.ma/fr/rabat/voitures/Toyota_corolla_34332447.htm', 'https://www.avito.ma/fr/dakhla/voitures/R18_34332444.htm', 'https://www.avito.ma/fr/casablanca/voitures/hyundai_i_30_automatique_34149031.htm', 'https://www.avito.ma/fr/taza/voitures/Ford_focus_titanium_34332422.htm', 'https://www.avito.ma/fr/casablanca/voitures/hay_hassani_34332383.htm', 'https://www.avito.ma/fr/casablanca/voitures/super_5_Essence__modil_86_diwana_99cv5_34332315.htm', 'https://www.avito.ma/fr/rabat/voitures/Nissan_tiida_34332265.htm', 'https://www.avito.ma/fr/khemisset/voitures/c15_34332257.htm', 'https://www.avito.ma/fr/essaouira/voitures/kia_picanto_34332251.htm', 'https://www.avito.ma/fr/centre_ville/voitures/Suzuki_Alto_Essence_6_chh_34332248.htm', 'https://www.avito.ma/fr/route_de_sefrou/voitures/Dacia_Duster_Diesel_34332226.htm', 'https://www.avito.ma/fr/casablanca/voitures/peugeot_Partner_34332215.htm', 'https://www.avito.ma/fr/guercif/voitures/Volkswagen_caddy_34332211.htm', 'https://www.avito.ma/fr/guich_oudaya/voitures/Citroën_saxo_diesel_1ére_main_reprise__34332205.htm', 'https://www.avito.ma/fr/fès/voitures/Peugeot_205_Essence_34332200.htm', 'https://www.avito.ma/fr/marrakech/voitures/ABDOU_34332196.htm', 'https://www.avito.ma/fr/el_jadida/voitures/opel_astra_mliha_34332176.htm', 'https://www.avito.ma/fr/hay_riad/voitures/Range_Rover_évoque_black_édition_34332173.htm', 'https://www.avito.ma/fr/souk_el_arbaa/voitures/Mercedes_Benz_Classe_C_Diesel_34332170.htm', 'https://www.avito.ma/fr/sidi_othmane/voitures/سيارة_كونغو_34332169.htm', 'https://www.avito.ma/fr/casablanca/voitures/C220_Mercedes_34332164.htm']\n",
      "['https://www.avito.ma/fr/agadir/voitures/Renault_4_34332649.htm', 'https://www.avito.ma/fr/laâyoune/voitures/toyotaa_courolaa_34332625.htm', 'https://www.avito.ma/fr/casablanca/voitures/207_34332581.htm', 'https://www.avito.ma/fr/la_ville_haute/voitures/Gol_accidentee_34332543.htm', 'https://www.avito.ma/fr/dakhla/voitures/a_vendre_voiture_mercedes_c220_34332534.htm', 'https://www.avito.ma/fr/casablanca/voitures/Peugeot_208_like_34332520.htm', 'https://www.avito.ma/fr/tétouan/voitures/Mercedez_Clk_34332519.htm', 'https://www.avito.ma/fr/dakhla/voitures/Mercedes_200_34332507.htm', 'https://www.avito.ma/fr/fès/voitures/mercedes_c250____dédouane_2005__mis_96_34332488.htm', 'https://www.avito.ma/fr/béni_mellal/voitures/Fiat_Doblo_34332479.htm', 'https://www.avito.ma/fr/rabat/voitures/Toyota_corolla_34332447.htm', 'https://www.avito.ma/fr/dakhla/voitures/R18_34332444.htm', 'https://www.avito.ma/fr/casablanca/voitures/hyundai_i_30_automatique_34149031.htm', 'https://www.avito.ma/fr/taza/voitures/Ford_focus_titanium_34332422.htm', 'https://www.avito.ma/fr/casablanca/voitures/hay_hassani_34332383.htm', 'https://www.avito.ma/fr/casablanca/voitures/super_5_Essence__modil_86_diwana_99cv5_34332315.htm', 'https://www.avito.ma/fr/rabat/voitures/Nissan_tiida_34332265.htm', 'https://www.avito.ma/fr/khemisset/voitures/c15_34332257.htm', 'https://www.avito.ma/fr/essaouira/voitures/kia_picanto_34332251.htm', 'https://www.avito.ma/fr/centre_ville/voitures/Suzuki_Alto_Essence_6_chh_34332248.htm', 'https://www.avito.ma/fr/route_de_sefrou/voitures/Dacia_Duster_Diesel_34332226.htm', 'https://www.avito.ma/fr/casablanca/voitures/peugeot_Partner_34332215.htm', 'https://www.avito.ma/fr/guercif/voitures/Volkswagen_caddy_34332211.htm', 'https://www.avito.ma/fr/guich_oudaya/voitures/Citroën_saxo_diesel_1ére_main_reprise__34332205.htm', 'https://www.avito.ma/fr/fès/voitures/Peugeot_205_Essence_34332200.htm', 'https://www.avito.ma/fr/marrakech/voitures/ABDOU_34332196.htm', 'https://www.avito.ma/fr/el_jadida/voitures/opel_astra_mliha_34332176.htm', 'https://www.avito.ma/fr/hay_riad/voitures/Range_Rover_évoque_black_édition_34332173.htm', 'https://www.avito.ma/fr/souk_el_arbaa/voitures/Mercedes_Benz_Classe_C_Diesel_34332170.htm', 'https://www.avito.ma/fr/sidi_othmane/voitures/سيارة_كونغو_34332169.htm', 'https://www.avito.ma/fr/casablanca/voitures/C220_Mercedes_34332164.htm', 'https://www.avito.ma/fr/taroudant/voitures/Opel_astra_34332146.htm']\n",
      "['https://www.avito.ma/fr/agadir/voitures/Renault_4_34332649.htm', 'https://www.avito.ma/fr/laâyoune/voitures/toyotaa_courolaa_34332625.htm', 'https://www.avito.ma/fr/casablanca/voitures/207_34332581.htm', 'https://www.avito.ma/fr/la_ville_haute/voitures/Gol_accidentee_34332543.htm', 'https://www.avito.ma/fr/dakhla/voitures/a_vendre_voiture_mercedes_c220_34332534.htm', 'https://www.avito.ma/fr/casablanca/voitures/Peugeot_208_like_34332520.htm', 'https://www.avito.ma/fr/tétouan/voitures/Mercedez_Clk_34332519.htm', 'https://www.avito.ma/fr/dakhla/voitures/Mercedes_200_34332507.htm', 'https://www.avito.ma/fr/fès/voitures/mercedes_c250____dédouane_2005__mis_96_34332488.htm', 'https://www.avito.ma/fr/béni_mellal/voitures/Fiat_Doblo_34332479.htm', 'https://www.avito.ma/fr/rabat/voitures/Toyota_corolla_34332447.htm', 'https://www.avito.ma/fr/dakhla/voitures/R18_34332444.htm', 'https://www.avito.ma/fr/casablanca/voitures/hyundai_i_30_automatique_34149031.htm', 'https://www.avito.ma/fr/taza/voitures/Ford_focus_titanium_34332422.htm', 'https://www.avito.ma/fr/casablanca/voitures/hay_hassani_34332383.htm', 'https://www.avito.ma/fr/casablanca/voitures/super_5_Essence__modil_86_diwana_99cv5_34332315.htm', 'https://www.avito.ma/fr/rabat/voitures/Nissan_tiida_34332265.htm', 'https://www.avito.ma/fr/khemisset/voitures/c15_34332257.htm', 'https://www.avito.ma/fr/essaouira/voitures/kia_picanto_34332251.htm', 'https://www.avito.ma/fr/centre_ville/voitures/Suzuki_Alto_Essence_6_chh_34332248.htm', 'https://www.avito.ma/fr/route_de_sefrou/voitures/Dacia_Duster_Diesel_34332226.htm', 'https://www.avito.ma/fr/casablanca/voitures/peugeot_Partner_34332215.htm', 'https://www.avito.ma/fr/guercif/voitures/Volkswagen_caddy_34332211.htm', 'https://www.avito.ma/fr/guich_oudaya/voitures/Citroën_saxo_diesel_1ére_main_reprise__34332205.htm', 'https://www.avito.ma/fr/fès/voitures/Peugeot_205_Essence_34332200.htm', 'https://www.avito.ma/fr/marrakech/voitures/ABDOU_34332196.htm', 'https://www.avito.ma/fr/el_jadida/voitures/opel_astra_mliha_34332176.htm', 'https://www.avito.ma/fr/hay_riad/voitures/Range_Rover_évoque_black_édition_34332173.htm', 'https://www.avito.ma/fr/souk_el_arbaa/voitures/Mercedes_Benz_Classe_C_Diesel_34332170.htm', 'https://www.avito.ma/fr/sidi_othmane/voitures/سيارة_كونغو_34332169.htm', 'https://www.avito.ma/fr/casablanca/voitures/C220_Mercedes_34332164.htm', 'https://www.avito.ma/fr/taroudant/voitures/Opel_astra_34332146.htm', 'https://www.avito.ma/fr/béni_mellal/voitures/peugeot_306_34332143.htm']\n",
      "['https://www.avito.ma/fr/agadir/voitures/Renault_4_34332649.htm', 'https://www.avito.ma/fr/laâyoune/voitures/toyotaa_courolaa_34332625.htm', 'https://www.avito.ma/fr/casablanca/voitures/207_34332581.htm', 'https://www.avito.ma/fr/la_ville_haute/voitures/Gol_accidentee_34332543.htm', 'https://www.avito.ma/fr/dakhla/voitures/a_vendre_voiture_mercedes_c220_34332534.htm', 'https://www.avito.ma/fr/casablanca/voitures/Peugeot_208_like_34332520.htm', 'https://www.avito.ma/fr/tétouan/voitures/Mercedez_Clk_34332519.htm', 'https://www.avito.ma/fr/dakhla/voitures/Mercedes_200_34332507.htm', 'https://www.avito.ma/fr/fès/voitures/mercedes_c250____dédouane_2005__mis_96_34332488.htm', 'https://www.avito.ma/fr/béni_mellal/voitures/Fiat_Doblo_34332479.htm', 'https://www.avito.ma/fr/rabat/voitures/Toyota_corolla_34332447.htm', 'https://www.avito.ma/fr/dakhla/voitures/R18_34332444.htm', 'https://www.avito.ma/fr/casablanca/voitures/hyundai_i_30_automatique_34149031.htm', 'https://www.avito.ma/fr/taza/voitures/Ford_focus_titanium_34332422.htm', 'https://www.avito.ma/fr/casablanca/voitures/hay_hassani_34332383.htm', 'https://www.avito.ma/fr/casablanca/voitures/super_5_Essence__modil_86_diwana_99cv5_34332315.htm', 'https://www.avito.ma/fr/rabat/voitures/Nissan_tiida_34332265.htm', 'https://www.avito.ma/fr/khemisset/voitures/c15_34332257.htm', 'https://www.avito.ma/fr/essaouira/voitures/kia_picanto_34332251.htm', 'https://www.avito.ma/fr/centre_ville/voitures/Suzuki_Alto_Essence_6_chh_34332248.htm', 'https://www.avito.ma/fr/route_de_sefrou/voitures/Dacia_Duster_Diesel_34332226.htm', 'https://www.avito.ma/fr/casablanca/voitures/peugeot_Partner_34332215.htm', 'https://www.avito.ma/fr/guercif/voitures/Volkswagen_caddy_34332211.htm', 'https://www.avito.ma/fr/guich_oudaya/voitures/Citroën_saxo_diesel_1ére_main_reprise__34332205.htm', 'https://www.avito.ma/fr/fès/voitures/Peugeot_205_Essence_34332200.htm', 'https://www.avito.ma/fr/marrakech/voitures/ABDOU_34332196.htm', 'https://www.avito.ma/fr/el_jadida/voitures/opel_astra_mliha_34332176.htm', 'https://www.avito.ma/fr/hay_riad/voitures/Range_Rover_évoque_black_édition_34332173.htm', 'https://www.avito.ma/fr/souk_el_arbaa/voitures/Mercedes_Benz_Classe_C_Diesel_34332170.htm', 'https://www.avito.ma/fr/sidi_othmane/voitures/سيارة_كونغو_34332169.htm', 'https://www.avito.ma/fr/casablanca/voitures/C220_Mercedes_34332164.htm', 'https://www.avito.ma/fr/taroudant/voitures/Opel_astra_34332146.htm', 'https://www.avito.ma/fr/béni_mellal/voitures/peugeot_306_34332143.htm', 'https://www.avito.ma/fr/casablanca/voitures/5_sereis_33447568.htm']\n",
      "['https://www.avito.ma/fr/agadir/voitures/Renault_4_34332649.htm', 'https://www.avito.ma/fr/laâyoune/voitures/toyotaa_courolaa_34332625.htm', 'https://www.avito.ma/fr/casablanca/voitures/207_34332581.htm', 'https://www.avito.ma/fr/la_ville_haute/voitures/Gol_accidentee_34332543.htm', 'https://www.avito.ma/fr/dakhla/voitures/a_vendre_voiture_mercedes_c220_34332534.htm', 'https://www.avito.ma/fr/casablanca/voitures/Peugeot_208_like_34332520.htm', 'https://www.avito.ma/fr/tétouan/voitures/Mercedez_Clk_34332519.htm', 'https://www.avito.ma/fr/dakhla/voitures/Mercedes_200_34332507.htm', 'https://www.avito.ma/fr/fès/voitures/mercedes_c250____dédouane_2005__mis_96_34332488.htm', 'https://www.avito.ma/fr/béni_mellal/voitures/Fiat_Doblo_34332479.htm', 'https://www.avito.ma/fr/rabat/voitures/Toyota_corolla_34332447.htm', 'https://www.avito.ma/fr/dakhla/voitures/R18_34332444.htm', 'https://www.avito.ma/fr/casablanca/voitures/hyundai_i_30_automatique_34149031.htm', 'https://www.avito.ma/fr/taza/voitures/Ford_focus_titanium_34332422.htm', 'https://www.avito.ma/fr/casablanca/voitures/hay_hassani_34332383.htm', 'https://www.avito.ma/fr/casablanca/voitures/super_5_Essence__modil_86_diwana_99cv5_34332315.htm', 'https://www.avito.ma/fr/rabat/voitures/Nissan_tiida_34332265.htm', 'https://www.avito.ma/fr/khemisset/voitures/c15_34332257.htm', 'https://www.avito.ma/fr/essaouira/voitures/kia_picanto_34332251.htm', 'https://www.avito.ma/fr/centre_ville/voitures/Suzuki_Alto_Essence_6_chh_34332248.htm', 'https://www.avito.ma/fr/route_de_sefrou/voitures/Dacia_Duster_Diesel_34332226.htm', 'https://www.avito.ma/fr/casablanca/voitures/peugeot_Partner_34332215.htm', 'https://www.avito.ma/fr/guercif/voitures/Volkswagen_caddy_34332211.htm', 'https://www.avito.ma/fr/guich_oudaya/voitures/Citroën_saxo_diesel_1ére_main_reprise__34332205.htm', 'https://www.avito.ma/fr/fès/voitures/Peugeot_205_Essence_34332200.htm', 'https://www.avito.ma/fr/marrakech/voitures/ABDOU_34332196.htm', 'https://www.avito.ma/fr/el_jadida/voitures/opel_astra_mliha_34332176.htm', 'https://www.avito.ma/fr/hay_riad/voitures/Range_Rover_évoque_black_édition_34332173.htm', 'https://www.avito.ma/fr/souk_el_arbaa/voitures/Mercedes_Benz_Classe_C_Diesel_34332170.htm', 'https://www.avito.ma/fr/sidi_othmane/voitures/سيارة_كونغو_34332169.htm', 'https://www.avito.ma/fr/casablanca/voitures/C220_Mercedes_34332164.htm', 'https://www.avito.ma/fr/taroudant/voitures/Opel_astra_34332146.htm', 'https://www.avito.ma/fr/béni_mellal/voitures/peugeot_306_34332143.htm', 'https://www.avito.ma/fr/casablanca/voitures/5_sereis_33447568.htm', 'https://www.avito.ma/fr/salé/voitures/Volkswagen_Passat_34332136.htm']\n"
     ]
    }
   ],
   "source": [
    "# loop over page links\n",
    "for div in soup.findAll('div', {'class': 'item'}):\n",
    "    a = div.findAll('a')[0]\n",
    "    urls_list.append(a.get('href'))\n",
    "    print(urls_list)"
   ]
  },
  {
   "cell_type": "code",
   "execution_count": 6,
   "metadata": {},
   "outputs": [],
   "source": [
    "def get_the_urls():\n",
    "    urls = []\n",
    "    # define the basic url to crawl on\n",
    "    basic_url = \"https://www.avito.ma/fr/maroc/voitures-à_vendre?mpr=500000000&o=\"\n",
    "    # loop over the paginated urls\n",
    "    for i in range(1,250):\n",
    "        # get the page url\n",
    "        url = basic_url+str(i)\n",
    "        # get the request response\n",
    "        resp  = requests.get(url)\n",
    "        data = resp.text\n",
    "        # transform it to bs object\n",
    "        soup = BeautifulSoup(data, \"lxml\")\n",
    "        # loop over page links\n",
    "        for div in soup.findAll('div', {'class': 'item'}):\n",
    "            a = div.findAll('a')[0]\n",
    "            urls.append(a.get('href'))\n",
    "\n",
    "\n",
    "    df = pd.DataFrame(data={\"url\": urls})\n",
    "    df.to_csv(\"vehicle_urls.csv\", sep=',',index=False)"
   ]
  },
  {
   "cell_type": "code",
   "execution_count": 7,
   "metadata": {},
   "outputs": [],
   "source": [
    "# run the get_the_urls\n",
    "get_the_urls()"
   ]
  },
  {
   "cell_type": "code",
   "execution_count": 24,
   "metadata": {},
   "outputs": [],
   "source": [
    "def scrap_data(veh_url):\n",
    "    resp = requests.get(veh_url)\n",
    "    data = resp.text\n",
    "    soup = BeautifulSoup(data, \"html.parser\")\n",
    "    target_component = soup.findAll(\"h2\",  {\"class\": [\"font-normal\", \"fs12\", \"no-margin\", \"ln22\"]})\n",
    "    \n",
    "    \n",
    "    results = []\n",
    "    \n",
    "    for i in target_component:\n",
    "        results.append(''.join(i.findAll(text=True)).replace('\\n',''))\n",
    "    return results\n",
    "\n"
   ]
  },
  {
   "cell_type": "code",
   "execution_count": 25,
   "metadata": {},
   "outputs": [
    {
     "data": {
      "text/plain": [
       "['56 000 DH',\n",
       " 'Année-Modèle:2005',\n",
       " 'Kilométrage:170 000 - 179 999',\n",
       " 'Type de carburant:Diesel',\n",
       " 'Marque:Kia',\n",
       " 'Modèle:Cerato',\n",
       " 'Puissance fiscale:-',\n",
       " 'Secteur:toute_la_ville',\n",
       " 'Type:Voitures, Offre',\n",
       " ' Settat']"
      ]
     },
     "execution_count": 25,
     "metadata": {},
     "output_type": "execute_result"
    }
   ],
   "source": [
    "scrap_data(\"https://www.avito.ma/fr/settat/voitures/Kia_cerato_toutes_option_34427296.htm\")"
   ]
  },
  {
   "cell_type": "code",
   "execution_count": 26,
   "metadata": {},
   "outputs": [],
   "source": [
    "def write_data_to_csv(data):\n",
    "    with open(\"output.csv\", \"w\") as f:\n",
    "        writer = csv.writer(f)\n",
    "        writer.writerows(data)"
   ]
  },
  {
   "cell_type": "code",
   "execution_count": 30,
   "metadata": {},
   "outputs": [
    {
     "data": {
      "text/html": [
       "<div>\n",
       "<style scoped>\n",
       "    .dataframe tbody tr th:only-of-type {\n",
       "        vertical-align: middle;\n",
       "    }\n",
       "\n",
       "    .dataframe tbody tr th {\n",
       "        vertical-align: top;\n",
       "    }\n",
       "\n",
       "    .dataframe thead th {\n",
       "        text-align: right;\n",
       "    }\n",
       "</style>\n",
       "<table border=\"1\" class=\"dataframe\">\n",
       "  <thead>\n",
       "    <tr style=\"text-align: right;\">\n",
       "      <th></th>\n",
       "      <th>url</th>\n",
       "    </tr>\n",
       "  </thead>\n",
       "  <tbody>\n",
       "    <tr>\n",
       "      <th>0</th>\n",
       "      <td>https://www.avito.ma/fr/settat/voitures/Kia_ce...</td>\n",
       "    </tr>\n",
       "    <tr>\n",
       "      <th>1</th>\n",
       "      <td>https://www.avito.ma/fr/marrakech/voitures/Ope...</td>\n",
       "    </tr>\n",
       "    <tr>\n",
       "      <th>2</th>\n",
       "      <td>https://www.avito.ma/fr/hassan/voitures/Nissan...</td>\n",
       "    </tr>\n",
       "    <tr>\n",
       "      <th>3</th>\n",
       "      <td>https://www.avito.ma/fr/tanger/voitures/Seat_i...</td>\n",
       "    </tr>\n",
       "    <tr>\n",
       "      <th>4</th>\n",
       "      <td>https://www.avito.ma/fr/salé/voitures/Peugeot_...</td>\n",
       "    </tr>\n",
       "  </tbody>\n",
       "</table>\n",
       "</div>"
      ],
      "text/plain": [
       "                                                 url\n",
       "0  https://www.avito.ma/fr/settat/voitures/Kia_ce...\n",
       "1  https://www.avito.ma/fr/marrakech/voitures/Ope...\n",
       "2  https://www.avito.ma/fr/hassan/voitures/Nissan...\n",
       "3  https://www.avito.ma/fr/tanger/voitures/Seat_i...\n",
       "4  https://www.avito.ma/fr/salé/voitures/Peugeot_..."
      ]
     },
     "execution_count": 30,
     "metadata": {},
     "output_type": "execute_result"
    }
   ],
   "source": [
    "# read the saved urls file as a dataframe \n",
    "urls_data = pd.read_csv(\"vehicle_urls.csv\")\n",
    "# create  a list that will hold the final data\n",
    "urls_data.head(5)"
   ]
  },
  {
   "cell_type": "code",
   "execution_count": null,
   "metadata": {},
   "outputs": [],
   "source": [
    "# read the saved urls file as a dataframe \n",
    "urls_data = pd.read_csv(\"vehicle_urls.csv\")\n",
    "# create  a list that will hold the final data\n",
    "final_result = []\n",
    "i = 1\n",
    "# loop over the dataframe\n",
    "for index, row in urls_data.iterrows():\n",
    "    final_result.append(scrap_data(row['url']))\n",
    "    # to count how many page we have processed since qe have 35 links per page\n",
    "    #i += 1\n",
    "    #if i%100 == 0:\n",
    "    #    print(\"page \",i, \"done\")\n",
    "print('Scrapping data finished')\n",
    "# now that we have all the data we can write it in a csv file\n",
    "write_data_to_csv(final_result)"
   ]
  },
  {
   "cell_type": "markdown",
   "metadata": {},
   "source": [
    "## Process Data"
   ]
  },
  {
   "cell_type": "code",
   "execution_count": 16,
   "metadata": {},
   "outputs": [
    {
     "data": {
      "text/html": [
       "<div>\n",
       "<style scoped>\n",
       "    .dataframe tbody tr th:only-of-type {\n",
       "        vertical-align: middle;\n",
       "    }\n",
       "\n",
       "    .dataframe tbody tr th {\n",
       "        vertical-align: top;\n",
       "    }\n",
       "\n",
       "    .dataframe thead th {\n",
       "        text-align: right;\n",
       "    }\n",
       "</style>\n",
       "<table border=\"1\" class=\"dataframe\">\n",
       "  <thead>\n",
       "    <tr style=\"text-align: right;\">\n",
       "      <th></th>\n",
       "      <th>price</th>\n",
       "      <th>year_model</th>\n",
       "      <th>mileage</th>\n",
       "      <th>fuel_type</th>\n",
       "      <th>mark</th>\n",
       "      <th>model</th>\n",
       "      <th>fiscal_power</th>\n",
       "      <th>sector</th>\n",
       "      <th>type</th>\n",
       "      <th>city</th>\n",
       "    </tr>\n",
       "  </thead>\n",
       "  <tbody>\n",
       "    <tr>\n",
       "      <th>0</th>\n",
       "      <td>135 000 DH</td>\n",
       "      <td>Année-Modèle:2013</td>\n",
       "      <td>Kilométrage:160 000 - 169 999</td>\n",
       "      <td>Type de carburant:Diesel</td>\n",
       "      <td>Marque:Peugeot</td>\n",
       "      <td>Modèle:508</td>\n",
       "      <td>Puissance fiscale:-</td>\n",
       "      <td>-</td>\n",
       "      <td>Type:Voitures, Offre</td>\n",
       "      <td>Temara</td>\n",
       "    </tr>\n",
       "    <tr>\n",
       "      <th>1</th>\n",
       "      <td>53 000 DH</td>\n",
       "      <td>Année-Modèle:2008</td>\n",
       "      <td>Kilométrage:35 000 - 39 999</td>\n",
       "      <td>Type de carburant:Diesel</td>\n",
       "      <td>Marque:Renault</td>\n",
       "      <td>Modèle:Clio</td>\n",
       "      <td>Puissance fiscale:-</td>\n",
       "      <td>-</td>\n",
       "      <td>Type:Voitures, Offre</td>\n",
       "      <td>Safi</td>\n",
       "    </tr>\n",
       "    <tr>\n",
       "      <th>2</th>\n",
       "      <td>59 000 DH</td>\n",
       "      <td>Année-Modèle:2007</td>\n",
       "      <td>Kilométrage:180 000 - 189 999</td>\n",
       "      <td>Type de carburant:Diesel</td>\n",
       "      <td>Marque:Citroen</td>\n",
       "      <td>Modèle:C3</td>\n",
       "      <td>Puissance fiscale:6 CV</td>\n",
       "      <td>Secteur:oued_fes</td>\n",
       "      <td>Type:Voitures, Offre</td>\n",
       "      <td>Fès</td>\n",
       "    </tr>\n",
       "    <tr>\n",
       "      <th>3</th>\n",
       "      <td>88 000 DH</td>\n",
       "      <td>Année-Modèle:2010</td>\n",
       "      <td>Kilométrage:35 000 - 39 999</td>\n",
       "      <td>Type de carburant:Diesel</td>\n",
       "      <td>Marque:Mercedes-Benz</td>\n",
       "      <td>Modèle:220</td>\n",
       "      <td>Puissance fiscale:-</td>\n",
       "      <td>-</td>\n",
       "      <td>Type:Voitures, Offre</td>\n",
       "      <td>Nador</td>\n",
       "    </tr>\n",
       "    <tr>\n",
       "      <th>4</th>\n",
       "      <td>60 000 DH</td>\n",
       "      <td>Année-Modèle:2009</td>\n",
       "      <td>Kilométrage:130 000 - 139 999</td>\n",
       "      <td>Type de carburant:Essence</td>\n",
       "      <td>Marque:Ford</td>\n",
       "      <td>Modèle:Fiesta</td>\n",
       "      <td>Puissance fiscale:7 CV</td>\n",
       "      <td>Secteur:saies</td>\n",
       "      <td>Type:Voitures, Offre</td>\n",
       "      <td>Fès</td>\n",
       "    </tr>\n",
       "  </tbody>\n",
       "</table>\n",
       "</div>"
      ],
      "text/plain": [
       "        price         year_model                        mileage  \\\n",
       "0  135 000 DH  Année-Modèle:2013  Kilométrage:160 000 - 169 999   \n",
       "1   53 000 DH  Année-Modèle:2008    Kilométrage:35 000 - 39 999   \n",
       "2   59 000 DH  Année-Modèle:2007  Kilométrage:180 000 - 189 999   \n",
       "3   88 000 DH  Année-Modèle:2010    Kilométrage:35 000 - 39 999   \n",
       "4   60 000 DH  Année-Modèle:2009  Kilométrage:130 000 - 139 999   \n",
       "\n",
       "                   fuel_type                  mark          model  \\\n",
       "0   Type de carburant:Diesel        Marque:Peugeot     Modèle:508   \n",
       "1   Type de carburant:Diesel        Marque:Renault    Modèle:Clio   \n",
       "2   Type de carburant:Diesel        Marque:Citroen      Modèle:C3   \n",
       "3   Type de carburant:Diesel  Marque:Mercedes-Benz     Modèle:220   \n",
       "4  Type de carburant:Essence           Marque:Ford  Modèle:Fiesta   \n",
       "\n",
       "             fiscal_power            sector                  type     city  \n",
       "0     Puissance fiscale:-                 -  Type:Voitures, Offre   Temara  \n",
       "1     Puissance fiscale:-                 -  Type:Voitures, Offre     Safi  \n",
       "2  Puissance fiscale:6 CV  Secteur:oued_fes  Type:Voitures, Offre      Fès  \n",
       "3     Puissance fiscale:-                 -  Type:Voitures, Offre    Nador  \n",
       "4  Puissance fiscale:7 CV     Secteur:saies  Type:Voitures, Offre      Fès  "
      ]
     },
     "execution_count": 16,
     "metadata": {},
     "output_type": "execute_result"
    }
   ],
   "source": [
    "# set the column names\n",
    "colnames=['price', 'year_model', 'mileage', 'fuel_type', 'mark', 'model', 'fiscal_power', 'sector', 'type', 'city'] \n",
    "# read the csv file as a dataframe\n",
    "df = pd.read_csv(\"outputs.csv\", sep=\",\", names=colnames, header=None)\n",
    "# let's get some simple vision on our dataset\n",
    "df.head()"
   ]
  },
  {
   "cell_type": "code",
   "execution_count": null,
   "metadata": {},
   "outputs": [],
   "source": [
    "# remove thos rows doesn't contain the price value\n",
    "df = df[df.price.str.contains(\"DH\") == True]\n",
    "# remove the 'DH' caracters from the price\n",
    "df.price = df.price.map(lambda x: x.rstrip('DH'))\n",
    "# remove the space on it\n",
    "df.price = df.price.str.replace(\" \",\"\")\n",
    "# change it to integer value\n",
    "df.price = pd.to_numeric(df.price, errors = 'coerce', downcast= 'integer')"
   ]
  },
  {
   "cell_type": "code",
   "execution_count": null,
   "metadata": {},
   "outputs": [],
   "source": [
    "# remove thos rows doesn't contain the year_model value\n",
    "df = df[df.year_model.str.contains(\"Année-Modèle\") == True]\n",
    "# remove the 'Année-Modèle:' from the year_model\n",
    "df.year_model = df.year_model.map(lambda x: x.lstrip('Année-Modèle:').rstrip('ou plus ancien'))\n",
    "# df.year_model = df.year_model.map(lambda x: x.lstrip('Plus de '))\n",
    "# remove those lines having the year_model not set\n",
    "df = df[df.year_model != ' -']\n",
    "df = df[df.year_model != '']\n",
    "# change it to integer value\n",
    "df.year_model = pd.to_numeric(df.year_model, errors = 'coerce', downcast = 'integer')"
   ]
  }
 ],
 "metadata": {
  "kernelspec": {
   "display_name": "Python 3",
   "language": "python",
   "name": "python3"
  },
  "language_info": {
   "codemirror_mode": {
    "name": "ipython",
    "version": 3
   },
   "file_extension": ".py",
   "mimetype": "text/x-python",
   "name": "python",
   "nbconvert_exporter": "python",
   "pygments_lexer": "ipython3",
   "version": "3.7.3"
  }
 },
 "nbformat": 4,
 "nbformat_minor": 2
}
